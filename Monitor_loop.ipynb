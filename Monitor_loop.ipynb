{
 "cells": [
  {
   "cell_type": "code",
   "execution_count": 37,
   "metadata": {},
   "outputs": [],
   "source": [
    "## Imports\n",
    "import csv\n",
    "import pandas as pd \n",
    "import time"
   ]
  },
  {
   "cell_type": "code",
   "execution_count": 54,
   "metadata": {},
   "outputs": [],
   "source": [
    "## For demo\n",
    "import random"
   ]
  },
  {
   "cell_type": "code",
   "execution_count": 93,
   "metadata": {},
   "outputs": [],
   "source": [
    "# Setup Twilio interface\n",
    "import os\n",
    "from twilio.rest import Client\n",
    "\n",
    "account_sid = os.environ['TWILIO_ACCOUNT_SID'] = \"AC9077560e954b4c3f7d41e071d7ce11fa\"\n",
    "auth_token = os.environ['TWILIO_AUTH_TOKEN'] = \"b08626926b4c771ec6f83e11659cdbb0\"\n",
    "client = Client(account_sid, auth_token)"
   ]
  },
  {
   "cell_type": "code",
   "execution_count": 39,
   "metadata": {},
   "outputs": [],
   "source": [
    "## Setup\n",
    "\n",
    "# Paths\n",
    "PATH = 'C:/Users/Sirpimmon/Desktop/hackathon22s/plantbuddy/'\n",
    "conditions_path = \"outputs/conditions.csv\"\n",
    "temps_path = \"outputs/plant_temp_ranges.csv\"\n",
    "# readings = \"readings/reading1.csv\" # For when it's using the renamed sheet\n",
    "# readings = \"readings/out.csv\" # For when it's read directly from the arduino\n",
    "readings = \"readings/rand_vals.csv\" # For when it's read from random\n",
    "\n",
    "# Time interval\n",
    "unit = 0 # 0 for seconds, 1 for minutes\n",
    "interval = 15 # 5 for minutes, 20 for seconds for demonstration"
   ]
  },
  {
   "cell_type": "code",
   "execution_count": 40,
   "metadata": {},
   "outputs": [],
   "source": [
    "## Make dictionary of plants\n",
    "\n",
    "filename = PATH + temps_path\n",
    "file = open(filename)\n",
    "\n",
    "csvreader = csv.reader(file)\n",
    "plant_dict = {}\n",
    "\n",
    "header = []\n",
    "header = next(csvreader)\n",
    "\n",
    "for row in csvreader:\n",
    "    plant_dict[row[0]] = (float(row[2]), float(row[1]))\n",
    "\n",
    "file.close()"
   ]
  },
  {
   "cell_type": "code",
   "execution_count": 41,
   "metadata": {},
   "outputs": [],
   "source": [
    "# Read conditions csv\n",
    "\n",
    "filename = PATH + conditions_path\n",
    "conditions = pd.read_csv(filename, delimiter = ',', encoding=\"utf-8-sig\")"
   ]
  },
  {
   "cell_type": "code",
   "execution_count": 42,
   "metadata": {},
   "outputs": [],
   "source": [
    "# Ideal plant conditions from file\n",
    "\n",
    "max_press = conditions._get_value(0, \"max_press\")\n",
    "min_press = conditions._get_value(0, \"min_press\")\n",
    "max_humid = conditions._get_value(0, \"max_humid\")\n",
    "min_humid = conditions._get_value(0, \"min_humid\")\n",
    "low_light_threshold = conditions._get_value(0, \"low_light_threshold\")\n",
    "high_light_threshold = conditions._get_value(0, \"high_light_threshold\")"
   ]
  },
  {
   "cell_type": "code",
   "execution_count": 43,
   "metadata": {},
   "outputs": [
    {
     "name": "stdout",
     "output_type": "stream",
     "text": [
      "What type of plant do you have?\n",
      "iris\n"
     ]
    }
   ],
   "source": [
    "## Take input\n",
    "\n",
    "print(\"What type of plant do you have?\")\n",
    "x = input().lower()\n",
    "\n",
    "# If it's not in the American plants list, then it's assumed it's a houseplant\n",
    "if x not in plant_dict:\n",
    "    plant_dict[x] = (60, 80)"
   ]
  },
  {
   "cell_type": "code",
   "execution_count": 47,
   "metadata": {},
   "outputs": [],
   "source": [
    "## Read values from arduino\n",
    "def readvals(filename):\n",
    "    global light\n",
    "    global temp\n",
    "    global time1\n",
    "    global humidity\n",
    "    global pressure\n",
    "    global unit\n",
    "    \n",
    "    \n",
    "    file = open(filename)\n",
    "\n",
    "    csvreader = csv.reader(file)\n",
    "\n",
    "    header = []\n",
    "    header = next(csvreader)\n",
    "\n",
    "    for row in csvreader:\n",
    "        if unit == 0:\n",
    "            time1 = int(row[0][3:5])\n",
    "        else:\n",
    "            time1 = int(row[0][0:2])\n",
    "        light = int(row[1])\n",
    "        temp = (float(row[2])*1.8) + 32\n",
    "        humidity = float(row[3])\n",
    "        pressure = float(row[4])\n",
    "\n",
    "    file.close()\n"
   ]
  },
  {
   "cell_type": "code",
   "execution_count": 46,
   "metadata": {},
   "outputs": [
    {
     "ename": "NameError",
     "evalue": "name 'time1' is not defined",
     "output_type": "error",
     "traceback": [
      "\u001b[1;31m---------------------------------------------------------------------------\u001b[0m",
      "\u001b[1;31mNameError\u001b[0m                                 Traceback (most recent call last)",
      "\u001b[1;32m<ipython-input-46-f6f98374b795>\u001b[0m in \u001b[0;36m<module>\u001b[1;34m\u001b[0m\n\u001b[1;32m----> 1\u001b[1;33m \u001b[0mtime1\u001b[0m\u001b[1;33m\u001b[0m\u001b[1;33m\u001b[0m\u001b[0m\n\u001b[0m",
      "\u001b[1;31mNameError\u001b[0m: name 'time1' is not defined"
     ]
    }
   ],
   "source": [
    "time1"
   ]
  },
  {
   "cell_type": "code",
   "execution_count": 94,
   "metadata": {},
   "outputs": [
    {
     "ename": "StopIteration",
     "evalue": "",
     "output_type": "error",
     "traceback": [
      "\u001b[1;31m---------------------------------------------------------------------------\u001b[0m",
      "\u001b[1;31mStopIteration\u001b[0m                             Traceback (most recent call last)",
      "\u001b[1;32m<ipython-input-94-2004a9ad1a83>\u001b[0m in \u001b[0;36m<module>\u001b[1;34m\u001b[0m\n\u001b[0;32m      2\u001b[0m \u001b[1;33m\u001b[0m\u001b[0m\n\u001b[0;32m      3\u001b[0m \u001b[0mfilename\u001b[0m \u001b[1;33m=\u001b[0m \u001b[0mPATH\u001b[0m \u001b[1;33m+\u001b[0m \u001b[0mreadings\u001b[0m\u001b[1;33m\u001b[0m\u001b[1;33m\u001b[0m\u001b[0m\n\u001b[1;32m----> 4\u001b[1;33m \u001b[0mreadvals\u001b[0m\u001b[1;33m(\u001b[0m\u001b[0mfilename\u001b[0m\u001b[1;33m)\u001b[0m\u001b[1;33m\u001b[0m\u001b[1;33m\u001b[0m\u001b[0m\n\u001b[0m\u001b[0;32m      5\u001b[0m \u001b[1;33m\u001b[0m\u001b[0m\n\u001b[0;32m      6\u001b[0m \u001b[1;31m# Loop until stopped\u001b[0m\u001b[1;33m\u001b[0m\u001b[1;33m\u001b[0m\u001b[1;33m\u001b[0m\u001b[0m\n",
      "\u001b[1;32m<ipython-input-47-0e2dc26bd7b9>\u001b[0m in \u001b[0;36mreadvals\u001b[1;34m(filename)\u001b[0m\n\u001b[0;32m     14\u001b[0m \u001b[1;33m\u001b[0m\u001b[0m\n\u001b[0;32m     15\u001b[0m     \u001b[0mheader\u001b[0m \u001b[1;33m=\u001b[0m \u001b[1;33m[\u001b[0m\u001b[1;33m]\u001b[0m\u001b[1;33m\u001b[0m\u001b[1;33m\u001b[0m\u001b[0m\n\u001b[1;32m---> 16\u001b[1;33m     \u001b[0mheader\u001b[0m \u001b[1;33m=\u001b[0m \u001b[0mnext\u001b[0m\u001b[1;33m(\u001b[0m\u001b[0mcsvreader\u001b[0m\u001b[1;33m)\u001b[0m\u001b[1;33m\u001b[0m\u001b[1;33m\u001b[0m\u001b[0m\n\u001b[0m\u001b[0;32m     17\u001b[0m \u001b[1;33m\u001b[0m\u001b[0m\n\u001b[0;32m     18\u001b[0m     \u001b[1;32mfor\u001b[0m \u001b[0mrow\u001b[0m \u001b[1;32min\u001b[0m \u001b[0mcsvreader\u001b[0m\u001b[1;33m:\u001b[0m\u001b[1;33m\u001b[0m\u001b[1;33m\u001b[0m\u001b[0m\n",
      "\u001b[1;31mStopIteration\u001b[0m: "
     ]
    }
   ],
   "source": [
    "## Version of the file for real numbers\n",
    "\n",
    "filename = PATH + readings    \n",
    "readvals(filename)\n",
    "\n",
    "# Loop until stopped\n",
    "while True:\n",
    "    ## Reports\n",
    "    prev_time_recorded = 0\n",
    "    \n",
    "    # Read values from Arduino\n",
    "    filename = PATH + readings    \n",
    "    readvals(filename)\n",
    "    \n",
    "    # If it's time to report a status update\n",
    "    if time1 % interval == 0 and time1 != prev_time_recorded:\n",
    "        prev_time_recorded = time1\n",
    "\n",
    "\n",
    "        ## Check levels - 0 for good level, 1 for too low, 2 for too high\n",
    "        light_lvl = 0\n",
    "        temp_lvl = 0\n",
    "        humidity_lvl = 0\n",
    "        pressure_lvl = 0\n",
    "\n",
    "        if light < low_light_threshold:\n",
    "            light_lvl = 1\n",
    "        elif light > high_light_threshold:\n",
    "            light_lvl = 2\n",
    "\n",
    "        if temp < plant_dict[x][0]:\n",
    "            temp_lvl = 1\n",
    "        elif temp > plant_dict[x][1]:\n",
    "            temp_lvl = 2\n",
    "\n",
    "        if humidity < min_humid:\n",
    "            humidity_lvl = 1\n",
    "        elif humidity > max_humid:\n",
    "            humidity_lvl = 2\n",
    "            \n",
    "        if pressure < min_press:\n",
    "            pressure_lvl = 1\n",
    "        elif pressure > max_press:\n",
    "            pressure_lvl = 2\n",
    "            \n",
    "        \n",
    "        ## Msg generator\n",
    "        msg = \"\"\n",
    "\n",
    "        if light_lvl == 1:\n",
    "            msg = msg + \"Your plant needs more light, \"\n",
    "        elif light_lvl == 2:\n",
    "            msg = msg + \"Your plant needs less light, \"\n",
    "\n",
    "        if temp_lvl == 1:\n",
    "            msg = msg + \"to be warmed up to \" + str(plant_dict[x][0]) + \" degrees, \"\n",
    "        elif temp_lvl == 2:\n",
    "            msg = msg + \"to be cooled down to \" + str(plant_dict[x][1]) + \" degrees, \"\n",
    "            \n",
    "        if humidity_lvl == 1:\n",
    "            msg = msg + \"and to be watered. \"\n",
    "        elif humidity_lvl == 2:\n",
    "            msg = msg + \"and to stop being watered. \"\n",
    "            \n",
    "        if pressure_lvl == 1:\n",
    "            msg = msg + \"And more pressure.\"\n",
    "        elif pressure_lvl == 2:\n",
    "            msg = msg + \"And less pressure.\"\n",
    "            \n",
    "        if temp_lvl + pressure_lvl + humidity_lvl + light_lvl == 0:\n",
    "            msg = \"Everything is great!\"\n",
    "        \n",
    "        print(msg)\n",
    "        \n",
    "        message = client.messages \\\n",
    "            .create(\n",
    "                body=msg,\n",
    "                from_='+18438060190',\n",
    "                to='+15018301647'\n",
    "            )\n",
    "        \n",
    "        tm.sleep(3)\n",
    "        "
   ]
  },
  {
   "cell_type": "code",
   "execution_count": 95,
   "metadata": {},
   "outputs": [
    {
     "name": "stdout",
     "output_type": "stream",
     "text": [
      "IRAN\n",
      "to be cooled down to 80.0 degrees, and to be watered. And more pressure.\n",
      "IRAN\n",
      "to be cooled down to 80.0 degrees, and to be watered. And more pressure.\n"
     ]
    },
    {
     "ename": "KeyboardInterrupt",
     "evalue": "",
     "output_type": "error",
     "traceback": [
      "\u001b[1;31m---------------------------------------------------------------------------\u001b[0m",
      "\u001b[1;31mKeyboardInterrupt\u001b[0m                         Traceback (most recent call last)",
      "\u001b[1;32m<ipython-input-95-647bb4200d7f>\u001b[0m in \u001b[0;36m<module>\u001b[1;34m\u001b[0m\n\u001b[0;32m     91\u001b[0m             )\n\u001b[0;32m     92\u001b[0m \u001b[1;33m\u001b[0m\u001b[0m\n\u001b[1;32m---> 93\u001b[1;33m     \u001b[0mtm\u001b[0m\u001b[1;33m.\u001b[0m\u001b[0msleep\u001b[0m\u001b[1;33m(\u001b[0m\u001b[1;36m3\u001b[0m\u001b[1;33m)\u001b[0m\u001b[1;33m\u001b[0m\u001b[1;33m\u001b[0m\u001b[0m\n\u001b[0m\u001b[0;32m     94\u001b[0m \u001b[1;33m\u001b[0m\u001b[0m\n",
      "\u001b[1;31mKeyboardInterrupt\u001b[0m: "
     ]
    }
   ],
   "source": [
    "# Loop until stopped\n",
    "while True:\n",
    "    \n",
    "    \n",
    "    time_str = str(round(time.time()))\n",
    "    time_now = time_str[-4:-2] + \":\" + time_str[-2:]\n",
    "    light1 = random.randint(0, 700)\n",
    "    temperature1 = random.randint(0, 100)\n",
    "    humidity1 = random.randint(0, 100)\n",
    "    pressure1 = random.randint(5000, 15000)\n",
    "\n",
    "    d = {\"time\":[time_now], \"light\":[light1], \"temperature\":[temperature1], \"humidity\":[humidity1], \"pressure\":[pressure1]}\n",
    "\n",
    "    row = pd.DataFrame(data=d)\n",
    "    ## Reports\n",
    "    prev_time_recorded = 0\n",
    "    \n",
    "    # Read values from Arduino\n",
    "    time1 = int(row[\"time\"].values[0][3:5])\n",
    "    light = int(row[\"light\"])\n",
    "    temp = (float(row[\"temperature\"])*1.8) + 32\n",
    "    humidity = float(row[\"humidity\"])\n",
    "    pressure = float(row[\"pressure\"])\n",
    "    \n",
    "    # If it's time to report a status update\n",
    "    if time1 % 10 == 0 and time1 != prev_time_recorded:\n",
    "        prev_time_recorded = time1\n",
    "\n",
    "\n",
    "        ## Check levels - 0 for good level, 1 for too low, 2 for too high\n",
    "        light_lvl = 0\n",
    "        temp_lvl = 0\n",
    "        humidity_lvl = 0\n",
    "        pressure_lvl = 0\n",
    "\n",
    "        if light < low_light_threshold:\n",
    "            light_lvl = 1\n",
    "        elif light > high_light_threshold:\n",
    "            light_lvl = 2\n",
    "\n",
    "        if temp < plant_dict[x][0]:\n",
    "            temp_lvl = 1\n",
    "        elif temp > plant_dict[x][1]:\n",
    "            temp_lvl = 2\n",
    "\n",
    "        if humidity < min_humid:\n",
    "            humidity_lvl = 1\n",
    "        elif humidity > max_humid:\n",
    "            humidity_lvl = 2\n",
    "            \n",
    "        if pressure < min_press:\n",
    "            pressure_lvl = 1\n",
    "        elif pressure > max_press:\n",
    "            pressure_lvl = 2\n",
    "            \n",
    "        \n",
    "        ## Msg generator\n",
    "        msg = \"Your plant needs \"\n",
    "\n",
    "        if light_lvl == 1:\n",
    "            msg = msg + \"more light, \"\n",
    "        elif light_lvl == 2:\n",
    "            msg = msg + \"less light, \"\n",
    "\n",
    "        if temp_lvl == 1:\n",
    "            msg = msg + \"to be warmed up to \" + str(plant_dict[x][0]) + \" degrees, \"\n",
    "        elif temp_lvl == 2:\n",
    "            msg = msg + \"to be cooled down to \" + str(plant_dict[x][1]) + \" degrees, \"\n",
    "            \n",
    "        if humidity_lvl == 1:\n",
    "            msg = msg + \"and to be watered. \"\n",
    "        elif humidity_lvl == 2:\n",
    "            msg = msg + \"and to stop being watered. \"\n",
    "            \n",
    "        if pressure_lvl == 1:\n",
    "            msg = msg + \"And more pressure.\"\n",
    "        elif pressure_lvl == 2:\n",
    "            msg = msg + \"And less pressure.\"\n",
    "            \n",
    "        if temp_lvl + pressure_lvl + humidity_lvl + light_lvl == 0:\n",
    "            msg = \"Everything is great!\"\n",
    "        \n",
    "        print(msg)\n",
    "        \n",
    "        message = client.messages \\\n",
    "            .create(\n",
    "                body=msg,\n",
    "                from_='+18438060190',\n",
    "                to='+15018301647'\n",
    "            )\n",
    "        \n",
    "    tm.sleep(3)\n",
    "        "
   ]
  },
  {
   "cell_type": "code",
   "execution_count": 86,
   "metadata": {},
   "outputs": [
    {
     "data": {
      "text/plain": [
       "2"
      ]
     },
     "execution_count": 86,
     "metadata": {},
     "output_type": "execute_result"
    }
   ],
   "source": []
  },
  {
   "cell_type": "code",
   "execution_count": 27,
   "metadata": {},
   "outputs": [
    {
     "name": "stdout",
     "output_type": "stream",
     "text": [
      "I need more light. Please move me into the sun!\n",
      "This temperature is good!\n",
      "I'm thirsty! Please water me.\n",
      "This amount of pressure is good!\n"
     ]
    }
   ],
   "source": [
    "# If the texting isn't implemented\n",
    "\n",
    "msg = \"\"\n",
    "\n",
    "if light_lvl == 1:\n",
    "    print(\"I need more light. Please move me into the sun!\")\n",
    "elif light_lvl == 2:\n",
    "    print(\"I need less light. Please move me into the shade!\")\n",
    "else:\n",
    "    print(\"This much light is good!\")\n",
    "\n",
    "if temp_lvl == 1:\n",
    "    print(\"I'm cold! Raise the temperature to \" + str(plant_dict[x][0]) + \" degrees.\")\n",
    "elif temp_lvl == 2:\n",
    "    print(\"I'm hot! Lower the temperature to \" + str(plant_dict[x][1]) + \" degrees.\")\n",
    "else:\n",
    "    print(\"This temperature is good!\")\n",
    "    \n",
    "if humidity_lvl == 1:\n",
    "    print(\"I'm thirsty! Please water me.\")\n",
    "elif humidity_lvl == 2:\n",
    "    print(\"I'm too wet! Please stop watering me.\")\n",
    "else:\n",
    "    print(\"This is a perfect amount of water!\")\n",
    "    \n",
    "if pressure_lvl == 1:\n",
    "    print(\"This isn't enough air pressure!\")\n",
    "elif pressure_lvl == 2:\n",
    "    print(\"This is too much air pressure!\")\n",
    "else:\n",
    "    print(\"This amount of pressure is good!\")\n"
   ]
  }
 ],
 "metadata": {
  "kernelspec": {
   "display_name": "Python 3",
   "language": "python",
   "name": "python3"
  },
  "language_info": {
   "codemirror_mode": {
    "name": "ipython",
    "version": 3
   },
   "file_extension": ".py",
   "mimetype": "text/x-python",
   "name": "python",
   "nbconvert_exporter": "python",
   "pygments_lexer": "ipython3",
   "version": "3.8.5"
  }
 },
 "nbformat": 4,
 "nbformat_minor": 4
}
