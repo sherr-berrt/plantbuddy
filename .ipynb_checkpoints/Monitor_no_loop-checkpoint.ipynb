{
 "cells": [
  {
   "cell_type": "code",
   "execution_count": 6,
   "metadata": {},
   "outputs": [],
   "source": [
    "## Imports\n",
    "\n",
    "import csv\n",
    "import pandas as pd "
   ]
  },
  {
   "cell_type": "code",
   "execution_count": 3,
   "metadata": {},
   "outputs": [],
   "source": [
    "# Setup Twilio interface\n",
    "import os\n",
    "from twilio.rest import Client\n",
    "\n",
    "account_sid = os.environ['TWILIO_ACCOUNT_SID'] = \"AC9077560e954b4c3f7d41e071d7ce11fa\"\n",
    "auth_token = os.environ['TWILIO_AUTH_TOKEN'] = \"29c0fede2bae7fb2f0233010be12ece6\"\n",
    "client = Client(account_sid, auth_token)"
   ]
  },
  {
   "cell_type": "code",
   "execution_count": 4,
   "metadata": {},
   "outputs": [],
   "source": [
    "## Setup\n",
    "\n",
    "# Paths\n",
    "PATH = 'C:/Users/Sirpimmon/Desktop/hackathon22s/plantbuddy/'\n",
    "conditions_path = \"outputs/conditions.csv\"\n",
    "temps_path = \"outputs/plant_temp_ranges.csv\"\n",
    "readings = \"readings/reading1.csv\" # For when it's using the renamed sheet\n",
    "# readings = \"readings/out.csv\" # For when it's read directly from the arduino\n",
    "\n",
    "# Time interval\n",
    "unit = 0 # 0 for seconds, 1 for minutes\n",
    "interval = 5 # 5 for minutes, 20 for seconds for demonstration"
   ]
  },
  {
   "cell_type": "code",
   "execution_count": 7,
   "metadata": {},
   "outputs": [],
   "source": [
    "## Make dictionary of plants\n",
    "\n",
    "filename = PATH + temps_path\n",
    "file = open(filename)\n",
    "\n",
    "csvreader = csv.reader(file)\n",
    "plant_dict = {}\n",
    "\n",
    "header = []\n",
    "header = next(csvreader)\n",
    "\n",
    "for row in csvreader:\n",
    "    plant_dict[row[0]] = (float(row[2]), float(row[1]))\n",
    "\n",
    "file.close()"
   ]
  },
  {
   "cell_type": "code",
   "execution_count": 9,
   "metadata": {},
   "outputs": [],
   "source": [
    "# Read conditions csv\n",
    "\n",
    "filename = PATH + conditions_path\n",
    "conditions = pd.read_csv(filename, delimiter = ',', encoding=\"utf-8-sig\")"
   ]
  },
  {
   "cell_type": "code",
   "execution_count": 10,
   "metadata": {},
   "outputs": [],
   "source": [
    "# Ideal plant conditions from file\n",
    "\n",
    "max_press = conditions._get_value(0, \"max_press\")\n",
    "min_press = conditions._get_value(0, \"min_press\")\n",
    "max_humid = conditions._get_value(0, \"max_humid\")\n",
    "min_humid = conditions._get_value(0, \"min_humid\")\n",
    "low_light_threshold = conditions._get_value(0, \"low_light_threshold\")\n",
    "high_light_threshold = conditions._get_value(0, \"high_light_threshold\")"
   ]
  },
  {
   "cell_type": "code",
   "execution_count": 11,
   "metadata": {},
   "outputs": [
    {
     "name": "stdout",
     "output_type": "stream",
     "text": [
      "What type of plant do you have?\n",
      "iris\n"
     ]
    }
   ],
   "source": [
    "## Take input\n",
    "\n",
    "print(\"What type of plant do you have?\")\n",
    "x = input().lower()\n",
    "\n",
    "# If it's not in the American plants list, then it's assumed it's a houseplant\n",
    "if x not in plant_dict:\n",
    "    plant_dict[x] = (60, 80)"
   ]
  },
  {
   "cell_type": "code",
   "execution_count": 19,
   "metadata": {},
   "outputs": [],
   "source": [
    "## Read values from arduino\n",
    "## Should only be one line\n",
    "def readvals(filename):\n",
    "    global light\n",
    "    global temp\n",
    "    global time\n",
    "    global humidity\n",
    "    global pressure\n",
    "    \n",
    "    \n",
    "    file = open(filename)\n",
    "\n",
    "    csvreader = csv.reader(file)\n",
    "\n",
    "    header = []\n",
    "    header = next(csvreader)\n",
    "\n",
    "    for row in csvreader:\n",
    "        if unit == 0:\n",
    "            time = int(row[0][3:5])\n",
    "        else:\n",
    "            time = int(row[0][0:2])\n",
    "        light = int(row[1])\n",
    "        temp = (float(row[2])*1.8) + 32\n",
    "        humidity = float(row[3])\n",
    "        pressure = float(row[4])\n",
    "\n",
    "    file.close()\n",
    "\n",
    "filename = PATH + readings    \n",
    "readvals(filename)"
   ]
  },
  {
   "cell_type": "code",
   "execution_count": 16,
   "metadata": {},
   "outputs": [
    {
     "data": {
      "text/plain": [
       "'C:/Users/Sirpimmon/Desktop/hackathon22s/plantbuddy/readings/reading1.csv'"
      ]
     },
     "execution_count": 16,
     "metadata": {},
     "output_type": "execute_result"
    }
   ],
   "source": [
    "filename"
   ]
  },
  {
   "cell_type": "code",
   "execution_count": 20,
   "metadata": {},
   "outputs": [],
   "source": [
    "## Check levels\n",
    "\n",
    "# 0 for good level\n",
    "# 1 for too low\n",
    "# 2 for too high\n",
    "\n",
    "light_lvl = 0\n",
    "temp_lvl = 0\n",
    "humidity_lvl = 0\n",
    "pressure_lvl = 0\n",
    "\n",
    "if light < low_light_threshold:\n",
    "    light_lvl = 1\n",
    "elif light > high_light_threshold:\n",
    "    light_lvl = 2\n",
    "\n",
    "if temp < plant_dict[x][0]:\n",
    "    temp_lvl = 1\n",
    "elif temp > plant_dict[x][1]:\n",
    "    temp_lvl = 2\n",
    "\n",
    "if humidity < min_humid:\n",
    "    humidity_lvl = 1\n",
    "elif humidity > max_humid:\n",
    "    humidity_lvl = 2\n",
    "    \n",
    "if pressure < min_press:\n",
    "    pressure_lvl = 1\n",
    "elif pressure > max_press:\n",
    "    pressure_lvl = 2"
   ]
  },
  {
   "cell_type": "code",
   "execution_count": 22,
   "metadata": {},
   "outputs": [
    {
     "data": {
      "text/plain": [
       "[1, 0, (60.0, 80.0), 1, 0]"
      ]
     },
     "execution_count": 22,
     "metadata": {},
     "output_type": "execute_result"
    }
   ],
   "source": [
    "## Reports\n",
    "\n",
    "prev_time_recorded = 0\n",
    "output = [light_lvl, temp_lvl, plant_dict[x], humidity_lvl, pressure_lvl]\n",
    "\n",
    "# If it's time to report a status update\n",
    "if time%interval == 0:\n",
    "    prev_time_recorded = time\n",
    "    \n",
    "    print(output)\n",
    "    \n",
    "\n",
    "output\n"
   ]
  },
  {
   "cell_type": "code",
   "execution_count": 24,
   "metadata": {},
   "outputs": [
    {
     "name": "stdout",
     "output_type": "stream",
     "text": [
      "I need more light. Please move me into the sun!\n",
      "This temperature is good!\n",
      "I'm thirsty! Please water me.\n",
      "This amount of pressure is good!\n",
      "Your plant needs more light, and to be watered. \n"
     ]
    }
   ],
   "source": [
    "## Msg generator\n",
    "\n",
    "# The print is for if the interface is not enabled\n",
    "# The saved variable is for the texting\n",
    "\n",
    "\n",
    "msg = \"\"\n",
    "\n",
    "if light_lvl == 1:\n",
    "    print(\"I need more light. Please move me into the sun!\")\n",
    "    msg = msg + \"Your plant needs more light, \"\n",
    "elif light_lvl == 2:\n",
    "    print(\"I need less light. Please move me into the shade!\")\n",
    "    msg = msg + \"Your plant needs less light, \"\n",
    "else:\n",
    "    print(\"This much light is good!\")\n",
    "\n",
    "if temp_lvl == 1:\n",
    "    print(\"I'm cold! Raise the temperature to \" + str(plant_dict[x][0]) + \" degrees.\")\n",
    "    msg = msg + \"to be warmed up to \" + str(plant_dict[x][0]) + \" degrees, \"\n",
    "elif temp_lvl == 2:\n",
    "    print(\"I'm hot! Lower the temperature to \" + str(plant_dict[x][1]) + \" degrees.\")\n",
    "    msg = msg + \"to be cooled down to \" + str(plant_dict[x][1]) + \" degrees, \"\n",
    "else:\n",
    "    print(\"This temperature is good!\")\n",
    "    \n",
    "if humidity_lvl == 1:\n",
    "    print(\"I'm thirsty! Please water me.\")\n",
    "    msg = msg + \"and to be watered. \"\n",
    "elif humidity_lvl == 2:\n",
    "    print(\"I'm too wet! Please stop watering me.\")\n",
    "    msg = msg + \"and to stop being watered. \"\n",
    "else:\n",
    "    print(\"This is a perfect amount of water!\")\n",
    "    \n",
    "if pressure_lvl == 1:\n",
    "    print(\"This isn't enough air pressure!\")\n",
    "    msg = msg + \"And more pressure.\"\n",
    "elif pressure_lvl == 2:\n",
    "    print(\"This is too much air pressure!\")\n",
    "    msg = msg + \"And less pressure.\"\n",
    "else:\n",
    "    print(\"This amount of pressure is good!\")\n",
    "    \n",
    "if temp_lvl + pressure_lvl + humidity_lvl + light_lvl == 0:\n",
    "    msg = \"Everything is great!\"\n",
    "print(msg)"
   ]
  },
  {
   "cell_type": "code",
   "execution_count": 25,
   "metadata": {},
   "outputs": [
    {
     "name": "stdout",
     "output_type": "stream",
     "text": [
      "SMdc2dd7d52aa545d9bda8f13ed63507f7\n"
     ]
    }
   ],
   "source": [
    "## Send text message\n",
    "\n",
    "\n",
    "message = client.messages \\\n",
    "    .create(\n",
    "         body=msg,\n",
    "         from_='+18438060190',\n",
    "         to='+15018301647'\n",
    "     )\n",
    "\n",
    "print(message.sid)"
   ]
  }
 ],
 "metadata": {
  "kernelspec": {
   "display_name": "Python 3",
   "language": "python",
   "name": "python3"
  },
  "language_info": {
   "codemirror_mode": {
    "name": "ipython",
    "version": 3
   },
   "file_extension": ".py",
   "mimetype": "text/x-python",
   "name": "python",
   "nbconvert_exporter": "python",
   "pygments_lexer": "ipython3",
   "version": "3.8.5"
  }
 },
 "nbformat": 4,
 "nbformat_minor": 4
}
