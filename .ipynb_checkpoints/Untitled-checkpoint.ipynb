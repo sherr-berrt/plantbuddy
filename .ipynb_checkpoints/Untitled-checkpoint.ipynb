{
 "cells": [
  {
   "cell_type": "code",
   "execution_count": 43,
   "metadata": {},
   "outputs": [],
   "source": [
    "import time\n",
    "import random\n",
    "import pandas as pd"
   ]
  },
  {
   "cell_type": "code",
   "execution_count": 37,
   "metadata": {},
   "outputs": [],
   "source": [
    "while True:\n",
    "    time_str = str(round(time.time()))\n",
    "    time_now = time_str[-4:-2] + \":\" + time_str[-2:]\n",
    "    light = random.randint(0, 700)\n",
    "    temperature = random.randint(0, 100)\n",
    "    humidity = random.randint(0, 100)\n",
    "    pressure = random.randint(5000, 15000)\n",
    "\n",
    "    d = {\"time\":[time_now], \"light\":[light], \"temperature\":[temperature], \"humidity\":[humidity], \"pressure\":[pressure]}\n",
    "\n",
    "    df = pd.DataFrame(data=d)\n",
    "    \n",
    "    df.to_csv('C:/Users/Sirpimmon/Desktop/hackathon22s/plantbuddy/readings/rand_vals.csv', index=False)\n",
    "    \n",
    "    # Pause before next one\n",
    "    time.sleep(3)\n"
   ]
  }
 ],
 "metadata": {
  "kernelspec": {
   "display_name": "Python 3",
   "language": "python",
   "name": "python3"
  },
  "language_info": {
   "codemirror_mode": {
    "name": "ipython",
    "version": 3
   },
   "file_extension": ".py",
   "mimetype": "text/x-python",
   "name": "python",
   "nbconvert_exporter": "python",
   "pygments_lexer": "ipython3",
   "version": "3.8.5"
  }
 },
 "nbformat": 4,
 "nbformat_minor": 4
}
