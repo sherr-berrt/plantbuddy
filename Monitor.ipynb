{
 "cells": [
  {
   "cell_type": "code",
   "execution_count": 13,
   "metadata": {},
   "outputs": [],
   "source": [
    "## Imports\n",
    "\n",
    "import pandas as pd "
   ]
  },
  {
   "cell_type": "code",
   "execution_count": 73,
   "metadata": {},
   "outputs": [],
   "source": [
    "## Setup\n",
    "\n",
    "PATH = 'C:/Users/Sirpimmon/Desktop/hackathon22s/plantbuddy/'\n",
    "conditions_path = \"outputs/conditions.csv\"\n",
    "temps_path = \"outputs/plant_temp_ranges.csv\"\n",
    "readings = \"readings/reading1.csv\" # For when it's using the renamed sheet\n",
    "# readings = \"readings/out.csv\" # For when it's read directly from the arduino"
   ]
  },
  {
   "cell_type": "code",
   "execution_count": 71,
   "metadata": {},
   "outputs": [],
   "source": [
    "## Make dictionary of plants\n",
    "\n",
    "filename = PATH + temps_path\n",
    "file = open(filename)\n",
    "\n",
    "csvreader = csv.reader(file)\n",
    "plant_dict = {}\n",
    "\n",
    "header = []\n",
    "header = next(csvreader)\n",
    "\n",
    "for row in csvreader:\n",
    "    plant_dict[row[0]] = (float(row[2]), float(row[1]))\n",
    "\n",
    "file.close()"
   ]
  },
  {
   "cell_type": "code",
   "execution_count": 37,
   "metadata": {},
   "outputs": [],
   "source": [
    "# Read conditions csv\n",
    "\n",
    "filename = PATH + conditions_path\n",
    "conditions = pd.read_csv(filename, delimiter = ',', encoding=\"utf-8-sig\")"
   ]
  },
  {
   "cell_type": "code",
   "execution_count": 59,
   "metadata": {},
   "outputs": [],
   "source": [
    "# Plant conditions\n",
    "\n",
    "max_press = conditions._get_value(0, \"max_press\")\n",
    "min_press = conditions._get_value(0, \"min_press\")\n",
    "max_humid = conditions._get_value(0, \"max_humid\")\n",
    "min_humid = conditions._get_value(0, \"min_humid\")\n",
    "low_light_threshold = conditions._get_value(0, \"low_light_threshold\")\n",
    "high_light_threshold = conditions._get_value(0, \"high_light_threshold\")"
   ]
  },
  {
   "cell_type": "code",
   "execution_count": 68,
   "metadata": {},
   "outputs": [
    {
     "name": "stdout",
     "output_type": "stream",
     "text": [
      "What type of plant do you have?\n",
      "iris\n"
     ]
    }
   ],
   "source": [
    "## Take input\n",
    "\n",
    "print(\"What type of plant do you have?\")\n",
    "x = input().lower()"
   ]
  },
  {
   "cell_type": "code",
   "execution_count": 95,
   "metadata": {},
   "outputs": [
    {
     "data": {
      "text/plain": [
       "(60.0, 80.0)"
      ]
     },
     "execution_count": 95,
     "metadata": {},
     "output_type": "execute_result"
    }
   ],
   "source": [
    "## Print values\n",
    "\n",
    "y = plant_dict[x]\n",
    "y"
   ]
  },
  {
   "cell_type": "code",
   "execution_count": 99,
   "metadata": {},
   "outputs": [],
   "source": [
    "## Read values from arduino\n",
    "## Should only be one line\n",
    "\n",
    "filename = PATH + readings\n",
    "file = open(filename)\n",
    "\n",
    "csvreader = csv.reader(file)\n",
    "\n",
    "header = []\n",
    "header = next(csvreader)\n",
    "\n",
    "for row in csvreader:\n",
    "    time = int(row[0][0:2])\n",
    "    light = int(row[1])\n",
    "    temp = (float(row[2])*1.8) + 32\n",
    "    humidity = float(row[3])\n",
    "    pressure = float(row[4])\n",
    "\n",
    "file.close()"
   ]
  },
  {
   "cell_type": "code",
   "execution_count": 100,
   "metadata": {},
   "outputs": [
    {
     "data": {
      "text/plain": [
       "[1, 0, 1, 0]"
      ]
     },
     "execution_count": 100,
     "metadata": {},
     "output_type": "execute_result"
    }
   ],
   "source": [
    "## Check levels\n",
    "\n",
    "# 0 for good level\n",
    "# 1 for too low\n",
    "# 2 for too high\n",
    "\n",
    "light_lvl = 0\n",
    "temp_lvl = 0\n",
    "humidity_lvl = 0\n",
    "pressure_lvl = 0\n",
    "\n",
    "if light < low_light_threshold:\n",
    "    light_lvl = 1\n",
    "elif light > high_light_threshold:\n",
    "    light_lvl = 2\n",
    "\n",
    "if temp < plant_dict[x][0]:\n",
    "    temp_lvl = 1\n",
    "elif temp > plant_dict[x][1]:\n",
    "    temp_lvl = 2\n",
    "\n",
    "if humidity < min_humid:\n",
    "    humidity_lvl = 1\n",
    "elif humidity > max_humid:\n",
    "    humidity_lvl = 2\n",
    "    \n",
    "if pressure < min_press:\n",
    "    pressure_lvl = 1\n",
    "elif pressure > max_press:\n",
    "    pressure_lvl = 2"
   ]
  },
  {
   "cell_type": "code",
   "execution_count": 93,
   "metadata": {},
   "outputs": [
    {
     "data": {
      "text/plain": [
       "99227.0"
      ]
     },
     "execution_count": 93,
     "metadata": {},
     "output_type": "execute_result"
    }
   ],
   "source": [
    "## Reports\n",
    "\n",
    "prev_time_recorded = 0\n",
    "\n",
    "\n",
    "[light_lvl, temp_lvl, humidity_lvl, pressure_lvl]"
   ]
  },
  {
   "cell_type": "code",
   "execution_count": 105,
   "metadata": {},
   "outputs": [
    {
     "name": "stdout",
     "output_type": "stream",
     "text": [
      "This much light is good!\n",
      "I'm hot! Lower the temperature to 80.0 degrees.\n",
      "This is a perfect amount of water!\n",
      "This amount of pressure is good!\n"
     ]
    }
   ],
   "source": [
    "## If interface not implemented \n",
    "\n",
    "if light == 1:\n",
    "    print(\"I need more light. Please move me into the sun!\")\n",
    "elif light == 2:\n",
    "    print(\"I need less light. Please move me into the shade!\")\n",
    "else:\n",
    "    print(\"This much light is good!\")\n",
    "\n",
    "if temp == 1:\n",
    "    print(\"I'm cold! Raise the temperature to \" + str(plant_dict[x][0]) + \" degrees.\")\n",
    "elif temp == 2:\n",
    "    print(\"I'm hot! Lower the temperature to \" + str(plant_dict[x][1]) + \" degrees.\")\n",
    "else:\n",
    "    print(\"This temperature is good!\")\n",
    "    \n",
    "if humidity == 1:\n",
    "    print(\"I'm thirsty! Please water me.\")\n",
    "elif humidity == 2:\n",
    "    print(\"I'm too wet! Please don't water me anymore.\")\n",
    "else:\n",
    "    print(\"This is a perfect amount of water!\")\n",
    "    \n",
    "if pressure == 1:\n",
    "    print(\"This isn't enough air pressure!\")\n",
    "elif pressure == 2:\n",
    "    print(\"This is too much air pressure!\")\n",
    "else:\n",
    "    print(\"This amount of pressure is good!\")\n"
   ]
  }
 ],
 "metadata": {
  "kernelspec": {
   "display_name": "Python 3",
   "language": "python",
   "name": "python3"
  },
  "language_info": {
   "codemirror_mode": {
    "name": "ipython",
    "version": 3
   },
   "file_extension": ".py",
   "mimetype": "text/x-python",
   "name": "python",
   "nbconvert_exporter": "python",
   "pygments_lexer": "ipython3",
   "version": "3.8.5"
  }
 },
 "nbformat": 4,
 "nbformat_minor": 4
}
